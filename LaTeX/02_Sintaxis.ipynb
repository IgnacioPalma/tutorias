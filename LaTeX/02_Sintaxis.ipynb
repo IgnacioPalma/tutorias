{
 "cells": [
  {
   "cell_type": "markdown",
   "metadata": {},
   "source": [
    "# Sintaxis\n",
    "\n",
    "El siguiente capítulo tiene como objetivo familiarizarse con la escritura en LaTeX."
   ]
  },
  {
   "cell_type": "markdown",
   "metadata": {},
   "source": [
    "## Espacios\n",
    "\n",
    "LaTeX normaliza los espacios, de esta forma\n",
    "\n",
    "```latex\n",
    "This is a very\n",
    "long line\n",
    "```\n",
    "\n",
    "Es renderizado como\n",
    "\n",
    "$$\n",
    "\\text{This is a very long line}\n",
    "$$\n",
    "\n",
    "Para gatilar un nuevo párrafo se debe escribir una línea en blanco antes del nuevo texto."
   ]
  },
  {
   "cell_type": "markdown",
   "metadata": {},
   "source": [
    "## Caracteres reservados\n",
    "\n",
    "LaTeX es un macro de TeX y, como tal, tiene un grupo de caracteres que son interpretados por el lenguaje de programación. Entre ellos se encuentran:\n",
    "\n",
    "$$\n",
    "\\text{\\# \\$ \\% \\^{} \\& \\_ \\{ \\} \\~{} \\textbackslash{}}\n",
    "$$\n",
    "\n",
    "Para poder escribirlos fue necesario escaparlos con una diagonal invertida:\n",
    "\n",
    "```\n",
    "\\# \\$ \\% \\^{} \\& \\_ \\{ \\} \\~{} \\textbackslash{}\n",
    "```\n",
    "\n",
    "* Los caracteres `^` y `~` se posicionan sobre la siguiente letra, razón por la que deben ser precedidos de un `{}` para especificar que no tienen que modificar ninguna letra posterior.\n",
    "\n",
    "* La diagonal invertida no puede ser escrita con `\\\\`, pues este es un comando que gatilla una nueva línea de texto. Especialmente útil al dibujar tablas.\n",
    "\n",
    "* Para escribir `<` y `>` se debe utilizar `\\lt` y `\\gt`, respectivamente."
   ]
  },
  {
   "cell_type": "markdown",
   "metadata": {},
   "source": [
    "## Entornos\n",
    "\n",
    "Los marcadores `\\begin` y `\\end` marcan un entorno, el contenido en su interior se verá modificado conforme la definición del entorno. Adicionalmente, es posible anidarlos entre sí.\n",
    "\n",
    "```latex\n",
    "\\begin{unentorno}\n",
    "Texto a ser alterado por el entorno\n",
    "\\end{unentorno}\n",
    "```"
   ]
  },
  {
   "cell_type": "markdown",
   "metadata": {},
   "source": [
    "## Comandos\n",
    "\n",
    "El caracter `\\` indica que el texto es un comando, por ejemplo:\n",
    "\n",
    "```latex\n",
    "\\emph{Pan con palta}\n",
    "```\n",
    "\n",
    "Tiene como argumento `Pan con palta`, texto que se mostrará en cursivas en el documento compilado.\n",
    "\n",
    "Por otro lado:\n",
    "\n",
    "```latex\n",
    "{\\em Pan con palta}\n",
    "```\n",
    "\n",
    "No recibe argumentos, pero debe ser encerrado entre `{}` porque tiene como alcance toda la línea. Es importante encerrar entre llaves, del contrario los cambios pueden expandirse de forma inesperada a lo largo del documento.\n",
    "\n",
    "Algunos comandos aceptan opciones adicionales bajo el formato:\n",
    "\n",
    "```latex\n",
    "\\comando[option]{argument}\n",
    "```\n",
    "Estas permiten modficar el comportamiento del comando, como establecer tamaño de letra o ancho de imagen.\n",
    "\n",
    "Un comando puede tener múltiples argumentos en diferentes llaves, pero todas las opciones deben estar separadas por comas dentro de las mismas llaves cuadradas.\n",
    "\n",
    "```latex\n",
    "\\comando[option1,option2=value,option3]{arg1}{arg2}{arg3}\n",
    "```"
   ]
  },
  {
   "cell_type": "markdown",
   "metadata": {},
   "source": [
    "## Comentarios\n",
    "\n",
    "El motor de LaTeX ignora todas las líneas que comienzan con `%`:\n",
    "\n",
    "```latex\n",
    "% Esto es un comentario\n",
    "Esto es texto plano\n",
    "```\n",
    "\n",
    "También son útiles para romper en múltiples líneas texto muy largo:\n",
    "\n",
    "```latex\n",
    "% Esto sera leido como una misma linea\n",
    "Supercal%\n",
    "ifragilist%\n",
    "icexpialidocious\n",
    "```\n",
    "\n",
    "Si se necesita comentar múltiples líneas, el package *comment* permite definir un entorno comentario:\n",
    "\n",
    "```latex\n",
    "Este texto se mostrara\n",
    "\n",
    "\\begin{comment}\n",
    "Nada de lo que\n",
    "esta aqui dentro\n",
    "se mostrara\n",
    "\n",
    "Aunque sea un\n",
    "nuevo parrafo\n",
    "\\end{comment}\n",
    "```\n",
    "\n",
    "En el próximo capítulo se explicará cómo añadir nuevos packages."
   ]
  },
  {
   "cell_type": "markdown",
   "metadata": {},
   "source": [
    "# Véase tambien\n",
    "\n",
    "* [LaTeX/Basics](https://en.wikibooks.org/wiki/LaTeX/Basics)"
   ]
  }
 ],
 "metadata": {
  "language_info": {
   "name": "python"
  }
 },
 "nbformat": 4,
 "nbformat_minor": 2
}

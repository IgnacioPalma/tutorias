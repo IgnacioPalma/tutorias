{
 "cells": [
  {
   "cell_type": "markdown",
   "metadata": {},
   "source": [
    "# Estructura\n",
    "\n",
    "El siguiente capítulo tiene como objetivo poder estructurar un documento en LaTeX."
   ]
  },
  {
   "cell_type": "markdown",
   "metadata": {},
   "source": [
    "## Esqueleto\n",
    "\n",
    "Para generar un documento primero se debe contar con la siguiente estructura base:\n",
    "\n",
    "```latex\n",
    "\\documentclass{article}\n",
    "\n",
    "\\begin{document}\n",
    "Hello world!\n",
    "\\end{document}\n",
    "```\n",
    "\n",
    "### Preámbulo\n",
    "\n",
    "Todo el texto contenido al interior de esta área:\n",
    "\n",
    "```latex\n",
    "\\documentclass{article}\n",
    "...\n",
    "\\begin{document}\n",
    "```\n",
    "\n",
    "Su objetivo es ejecutar comandos que afectarán a todo el documento.\n",
    "\n",
    "### Documento\n",
    "\n",
    "Todo el texto contenido al interior de esta área:\n",
    "\n",
    "```latex\n",
    "\\begin{document}\n",
    "...\n",
    "\\end{documento}\n",
    "```\n",
    "\n",
    "Su objetivo es delimitar el contenido que aparecerá en el documento compilado.\n",
    "\n",
    "La razón por la que debe delimitarse es porque el motor de LaTeX realiza los preprocesamientos de tipografía y estilo antes de la aparición de `begin{document}` y procesa elementos como pies de página y citas bibliográficas después de la aparición de `\\end{document}`.\n",
    "```"
   ]
  },
  {
   "cell_type": "markdown",
   "metadata": {},
   "source": [
    "## Document Class\n",
    "\n",
    "Es parte del preámbulo y tiene como objetivo definir el diseño del documento, denominado *clase* y provisto de la extensión de archivo `.cls`. LaTeX provee plantillas de diseño listas para utilizar.\n",
    "\n",
    "```latex\n",
    "\\documentclass[11pt,twoside,a4paper]{article}\n",
    "```\n",
    "\n",
    "Como puede verse en el extracto anterior, el document class es un comando que acepta múltiples opciones y que tiene como argumento un archivo `.cls`. La extensión se omite por ser una plantilla conocida por LaTeX.\n",
    "\n",
    "La plantilla *article* es la preferida para escribir informes universiarios y la plantilla *book* para escribir libros en una editorial."
   ]
  },
  {
   "cell_type": "markdown",
   "metadata": {},
   "source": [
    "## Packages\n",
    "\n",
    "Para extender el funcionamiento de LaTeX es necesario incluir paquetes externos escritos por terceros. Esto debe declararse en el preámbulo del documento.\n",
    "\n",
    "```latex\n",
    "\\documentclass{article}\n",
    "\\usepackage{color}\n",
    "\\usepackage{comment}\n",
    "...\n",
    "\\begin{document}\n",
    "...\n",
    "```\n",
    "\n",
    "Es posible pasar múltiples opciones a un paquete:\n",
    "\n",
    "```latex\n",
    "\\usepackage[a4paper, total={6in, 8in}]{geometry}\n",
    "```"
   ]
  },
  {
   "cell_type": "markdown",
   "metadata": {},
   "source": [
    "## Top Matter\n",
    "\n",
    "Es parte del documento y corresponde al conjunto de comandos que define el contenido de la portada.\n",
    "\n",
    "```latex\n",
    "\\begin{document}\n",
    "    \\title{Stairway to Heaven}\n",
    "    \\author{Jimmy Page and Robert Plant}\n",
    "    \\date{July 1970}\n",
    "    \\maketitle\n",
    "\\end{document}\n",
    "```\n",
    "\n",
    "> Si utiliza una plantilla personalizada, por ejemplo una provista por su universidad, es posible que no se haga uso de estos comandos o que su comportamiento haya sido modificado."
   ]
  },
  {
   "cell_type": "markdown",
   "metadata": {},
   "source": [
    "## Abstract\n",
    "\n",
    "Las clases de documento *article* y *report* proveen una forma rápida de generar un abstract.\n",
    "\n",
    "```latex\n",
    "\\begin{document}\n",
    "    \\begin{abstract}\n",
    "        Un texto muy largo\n",
    "        de varios párragos\n",
    "    \\end{abstract}\n",
    "    ...\n",
    "\\end{document}\n",
    "```"
   ]
  },
  {
   "cell_type": "markdown",
   "metadata": {},
   "source": [
    "## Sections\n",
    "\n",
    "Uno de los aspectos más importantes de LaTeX es el separar el contenido en secciones. A diferencia de otros procesadores de texto, es capaz de automatizar la creación del índice al sólo utilizar estos comandos.\n",
    "\n",
    "> A continuación se asume el uso de la clase *article*.\n",
    "\n",
    "```latex\n",
    "\\begin{document}\n",
    "    \\tableofcontents\n",
    "    \\section{Inicio de la historia}\n",
    "    ...\n",
    "    \\section{Desarrollo de la historia}\n",
    "    ...\n",
    "    \\section{Desenlace de la historia}\n",
    "\\end{document}\n",
    "```\n",
    "El comando `\\tableofcontents` generará la tabla de contenidos en la parte del documento donde es invocado &mdash;generalmente se prefiere que esto sea al inicio del documento, debajo del astract.\n",
    "\n",
    "Si el nombre de la sección es abusrdamente largo y complicado, puede entregarse una versión simplificada a la tabla de contenidos escribiéndola dentro del campo de opciones del comando.\n",
    "\n",
    "```latex\n",
    "\\section[Objetos que ruedan]{Análisis del efecto gravitatorio sobre los cuerpos de masa no-nula en planos de inclinados con alto coeficiente de roce}\n",
    "```\n",
    "\n",
    "Por omisión LaTeX se encarga de numerar las secciones según su aparición en el documento y llevarlas a la tabla de contenidos. Si se desea crear una *sección fantasma* que no tenga número ni quede registada en la tabla de contenidos, se debe utilizar un asterisco antes de la primera llave del argumento.\n",
    "\n",
    "```latex\n",
    "\\section*{Argumentos a favor de la energía nuclear}\n",
    "```\n",
    "\n",
    "LaTeX permite generar 6 niveles de secciones para la clase *article*:\n",
    "\n",
    "```latex\n",
    "\\part{Nivel 0}\n",
    "\\section{Nivel 1}\n",
    "\\subsection{Nivel 2}\n",
    "\\subsubsection{Nivel 3}\n",
    "\\paragraph{Nivel 4}\n",
    "\\subparagraph{Nivel 5}\n",
    "```\n",
    "\n",
    "> Todos los niveles tienen la variante *fantasma* con `*`.\n",
    "\n",
    "Para reducir la cantidad de niveles que aparecen en la tabla de contenidos a 3, escribir en el preámbulo del documento:\n",
    "\n",
    "```latex\n",
    "\\setcounter{tocdepth}{3}\n",
    "```\n"
   ]
  },
  {
   "cell_type": "markdown",
   "metadata": {},
   "source": [
    "# Véase tambien\n",
    "\n",
    "* [LaTeX/Document Structure](https://en.wikibooks.org/wiki/LaTeX/Document_Structure)\n",
    "* [Stack Overflow/Nested Subsection](https://tex.stackexchange.com/a/163680)"
   ]
  }
 ],
 "metadata": {
  "language_info": {
   "name": "python"
  }
 },
 "nbformat": 4,
 "nbformat_minor": 2
}

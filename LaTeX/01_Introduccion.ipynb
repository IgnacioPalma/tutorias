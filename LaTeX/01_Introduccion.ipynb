{
 "cells": [
  {
   "cell_type": "markdown",
   "metadata": {},
   "source": [
    "# Introducción"
   ]
  },
  {
   "cell_type": "markdown",
   "metadata": {},
   "source": [
    "## ¿Qué es TeX?\n",
    "\n",
    "$\\TeX$ es un lenguaje de programación creado por [Donald Knuth](https://en.wikipedia.org/wiki/Donald_Knuth) para escribir documentos de forma ordenada y consistente.\n",
    "\n",
    "Si bien es un lenguaje de programación Turing-completo, su principal función es hacer tipografía digital. Destaca por ser un programa estable que permite fino control de la estructura del documento y su formato."
   ]
  },
  {
   "cell_type": "markdown",
   "metadata": {},
   "source": [
    "## ¿Qué es LaTeX?\n",
    "\n",
    "$\\LaTeX$ es un conjunto de macros para $\\TeX$ escritos por [Leslie Lamport](https://en.wikipedia.org/wiki/Leslie_Lamport). Su propósito es simplificar la tipografía, algo especialmente útil para escribir fórmulas matemáticas.\n",
    "\n",
    "Al utilizar TeX es importante tomar en consideración la lógica del lenguaje, así como los aspectos visuales del documento resultante. LaTeX busca separar ambas partes, de esta forma es posible utilizar plantillas que tengan la estética ya definida y sólo enfocarse en escribir el contenido.\n",
    "\n",
    "Adicionalmente, LaTeX permite el uso de *packages* o *styles* que extiendan la funcionalidad existente. Su disponibilidad dependerá del editor y entorno en uso."
   ]
  },
  {
   "cell_type": "markdown",
   "metadata": {},
   "source": [
    "## ¿Por qué debería utilizar LaTeX?\n",
    "\n",
    "LaTeX se diferencia de procesadores de texto tales como Microsoft Word y Google Docs en la separación de estética y contenido. Mientras una tipografía [WYSIWYG](https://en.wikipedia.org/wiki/WYSIWYG) permite ver el producto final mientras se escribe, LaTeX primero debe escribirse y luego compilarse para ver el documento resultante.\n",
    "\n",
    "Este estilo de trabjo trae consigo las siguientes ventajas:\n",
    "\n",
    "* Las reglas de estilo ya están fijadas, sólo debe concentrarse en el contenido.\n",
    "* La estructura del documento es visible en código y replicable a modo plantilla.\n",
    "* El índice, pie de página, citaciones y referencias son generadas de forma automática.\n",
    "* Las formulas matemática pueden escribirte siguiente un conjunto de reglas.\n",
    "* El documento es texto plano.\n",
    "  * Puede leerse y entenderse con claridad en cualquier editor de texto.\n",
    "  * La creación de tablas, figuras y ecuaciones puede programarse.\n",
    "  * Los cambios pueden registrarse con cualquier programa de control de versiones.\n",
    "* Produce pdfs limpios que pueden parsearse correctamente por herramientas de accesibilidad."
   ]
  }
 ],
 "metadata": {
  "language_info": {
   "name": "python"
  }
 },
 "nbformat": 4,
 "nbformat_minor": 2
}

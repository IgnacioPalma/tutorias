{
 "cells": [
  {
   "cell_type": "markdown",
   "metadata": {},
   "source": [
    "# Estructura y sintaxis\n",
    "\n",
    "El siguiente capítulo tiene como objetivo familiarizarse con lo básico de LaTeX."
   ]
  },
  {
   "cell_type": "markdown",
   "metadata": {},
   "source": [
    "## Esqueleto\n",
    "\n",
    "Para poder generar un documento primero se debe contar con la siguiente estructura base:\n",
    "\n",
    "```latex\n",
    "\\documentclass{article}\n",
    "\n",
    "\\begin{document}\n",
    "Hello world!\n",
    "\\end{document}\n",
    "```\n",
    "\n",
    "### Document Class\n",
    "\n",
    "LaTeX provee un conjunto de plantillas que traen configurada la tipografía y la estética de un documento. La plantilla *article* es la preferida para escribir informes de trabajo y la plantilla *book* para escribir libros o novelas en una editorial.\n",
    "\n",
    "### Document Environment\n",
    "\n",
    "LaTeX provee entornos enclaustrados entre los marcadores `\\begin` y `\\end`, estos indican al motor que debe procesar el contenido en su interior de una forma particular. El entorno *document* establece la parte del código fuente a compilar en un documento final."
   ]
  },
  {
   "cell_type": "markdown",
   "metadata": {},
   "source": [
    "Ejecutar el extracto anterior resultará en lo siguiente:\n",
    "\n",
    "$$\n",
    "\\text{Hello world!}\n",
    "$$"
   ]
  },
  {
   "cell_type": "markdown",
   "metadata": {},
   "source": [
    "## Espacios\n",
    "\n",
    "LaTeX normaliza los espacios, de esta forma\n",
    "\n",
    "```latex\n",
    "This is a very\n",
    "long line\n",
    "```\n",
    "\n",
    "Es renderizado como\n",
    "\n",
    "$$\n",
    "\\text{This is a very long line}\n",
    "$$\n",
    "\n",
    "Para gatilar un nuevo párrafo se debe escribir una línea en blanco antes del nuevo texto."
   ]
  },
  {
   "cell_type": "markdown",
   "metadata": {},
   "source": [
    "## Caracteres reservados\n",
    "\n",
    "LaTeX es un macro de TeX y, como tal, tiene un grupo de caracteres que son interpretados por el lenguaje de programación. Entre ellos se encuentran:\n",
    "\n",
    "$$\n",
    "\\text{\\# \\$ \\% \\^{} \\& \\_ \\{ \\} \\~{} \\textbackslash{}}\n",
    "$$\n",
    "\n",
    "Para poder escribirlos fue necesario escaparlos con una diagonal invertida:\n",
    "\n",
    "```\n",
    "\\# \\$ \\% \\^{} \\& \\_ \\{ \\} \\~{} \\textbackslash{}\n",
    "```\n",
    "\n",
    "* Los caracteres `^` y `~` se posicionan sobre la siguiente letra, razón por la que deben ser precedidos de un `{}` para especificar que no tienen que modificar ninguna letra posterior.\n",
    "\n",
    "* La diagonal invertida no puede ser escrita con `\\\\`, pues este es un comando que gatilla una nueva línea de texto. Especialmente útil al dibujar tablas.\n",
    "\n",
    "* Para escribir `<` y `>` se debe utilizar `\\lt` y `\\gt`, respectivamente."
   ]
  },
  {
   "cell_type": "markdown",
   "metadata": {},
   "source": [
    "## Entornos\n",
    "\n",
    "Como se discutió anteriormente, los marcadores `\\begin` y `\\end` marcan un entorno, siendo *document* el más grande. Es posible anidarlos entre sí.\n",
    "\n",
    "```latex\n",
    "\\begin{unentorno}\n",
    "Texto a ser alterado por el entorno\n",
    "\\end{unentorno}\n",
    "```"
   ]
  },
  {
   "cell_type": "markdown",
   "metadata": {},
   "source": [
    "## Comandos\n",
    "\n",
    "El caracter `\\` indica que el texto es un comando, por ejemplo:\n",
    "\n",
    "```latex\n",
    "\\emph{Pan con palta}\n",
    "```\n",
    "\n",
    "Tiene como argumento `Pan con palta`, texto que se mostrará en cursivas en el documento compilado.\n",
    "\n",
    "Por otro lado:\n",
    "\n",
    "```latex\n",
    "{\\em Pan con palta}\n",
    "```\n",
    "\n",
    "No recibe argumentos, pero debe ser encerrado entre `{}` porque tiene como alcance toda la línea. Es importante encerrar entre llaves, del contrario los cambios pueden expandirse de forma inesperada a lo largo del documento.\n",
    "\n",
    "Algunos comandos aceptan opciones adicionales bajo el formato:\n",
    "\n",
    "```latex\n",
    "\\comando[option]{argument}\n",
    "```\n",
    "Estas permiten modficar el comportamiento del comando, como establecer tamaño de letra o ancho de imagen.\n",
    "\n",
    "Un comando puede tener múltiples argumentos en diferentes llaves, pero todas las opciones deben estar separadas por comas dentro de las mismas llaves cuadradas.\n",
    "\n",
    "```latex\n",
    "\\comando[option1,option2=value,option3]{arg1}{arg2}{arg3}\n",
    "```"
   ]
  },
  {
   "cell_type": "markdown",
   "metadata": {},
   "source": [
    "## Comentarios\n",
    "\n",
    "El motor de LaTeX ignora todas las líneas que comienzan con `%`:\n",
    "\n",
    "```latex\n",
    "% Esto es un comentario\n",
    "Esto es texto plano\n",
    "```\n",
    "\n",
    "También son útiles para romper en múltiples líneas texto muy largo:\n",
    "\n",
    "```latex\n",
    "% Esto sera leido como una misma linea\n",
    "Supercal%\n",
    "ifragilist%\n",
    "icexpialidocious\n",
    "```\n",
    "\n",
    "Si se necesita comentar múltiples líneas, el package *comment* permite definir un entorno comentario:\n",
    "\n",
    "```latex\n",
    "\\documentclass{article}\n",
    "\n",
    "\\usepackage{comment}\n",
    "\n",
    "\\begin{document}\n",
    "\n",
    "Este texto se mostrara\n",
    "\n",
    "\\begin{comment}\n",
    "Nada de lo que\n",
    "esta aqui dentro\n",
    "se mostrara\n",
    "\n",
    "Aunque sea un\n",
    "nuevo parrafo\n",
    "\\end{comment}\n",
    "\n",
    "\\end{document}\n",
    "```"
   ]
  }
 ],
 "metadata": {
  "language_info": {
   "name": "python"
  }
 },
 "nbformat": 4,
 "nbformat_minor": 2
}

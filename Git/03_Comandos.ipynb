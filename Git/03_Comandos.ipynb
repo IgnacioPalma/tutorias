{
 "cells": [
  {
   "cell_type": "markdown",
   "metadata": {},
   "source": [
    "# Comandos\n",
    "\n",
    "Hacer control de versiones con Git requiere aprender un conjunto de comandos básicos en la línea de comandos. Si bien existen interfaces gráficas que automatizan estos procesos, es importante entenderlos para poder aplicar flujos de trabajo más complejos no disponibles de manera gráfica."
   ]
  },
  {
   "cell_type": "markdown",
   "metadata": {},
   "source": [
    "> Hacer prepend de `%` permite correr comandos de shell.\n",
    "\n",
    "> Hacer prepend de `!` permite correr comandos arbitrarios.\n"
   ]
  },
  {
   "cell_type": "markdown",
   "metadata": {},
   "source": [
    "## git init\n",
    "\n",
    "Todo proyecto parte en un directorio. Creémoslo y entremos a este:"
   ]
  },
  {
   "cell_type": "code",
   "execution_count": 1,
   "metadata": {},
   "outputs": [
    {
     "name": "stdout",
     "output_type": "stream",
     "text": [
      "/home/sammy/.local/src/os/ec/tutorias/Git/my_repo\n"
     ]
    },
    {
     "name": "stderr",
     "output_type": "stream",
     "text": [
      "/usr/lib/python3.12/site-packages/IPython/core/magics/osm.py:417: UserWarning: This is now an optional IPython functionality, setting dhist requires you to install the `pickleshare` library.\n",
      "  self.shell.db['dhist'] = compress_dhist(dhist)[-100:]\n"
     ]
    }
   ],
   "source": [
    "!rm -rf my_repo # en caso que ya exista\n",
    "%mkdir my_repo\n",
    "%cd my_repo"
   ]
  },
  {
   "cell_type": "markdown",
   "metadata": {},
   "source": [
    "Ahora nos encontramos en el *working directory* `my_repo`. Procedamos a inicializar un repositorio de Git en su interior:"
   ]
  },
  {
   "cell_type": "code",
   "execution_count": 2,
   "metadata": {},
   "outputs": [
    {
     "name": "stdout",
     "output_type": "stream",
     "text": [
      "\u001b[33mhint: Using 'master' as the name for the initial branch. This default branch name\u001b[m\n",
      "\u001b[33mhint: is subject to change. To configure the initial branch name to use in all\u001b[m\n",
      "\u001b[33mhint: of your new repositories, which will suppress this warning, call:\u001b[m\n",
      "\u001b[33mhint:\u001b[m\n",
      "\u001b[33mhint: \tgit config --global init.defaultBranch <name>\u001b[m\n",
      "\u001b[33mhint:\u001b[m\n",
      "\u001b[33mhint: Names commonly chosen instead of 'master' are 'main', 'trunk' and\u001b[m\n",
      "\u001b[33mhint: 'development'. The just-created branch can be renamed via this command:\u001b[m\n",
      "\u001b[33mhint:\u001b[m\n",
      "\u001b[33mhint: \tgit branch -m <name>\u001b[m\n",
      "Initialized empty Git repository in /home/sammy/.local/src/os/ec/tutorias/Git/my_repo/.git/\n"
     ]
    }
   ],
   "source": [
    "!git init"
   ]
  },
  {
   "cell_type": "markdown",
   "metadata": {},
   "source": [
    "Populemos el working directory con archivos:"
   ]
  },
  {
   "cell_type": "code",
   "execution_count": 3,
   "metadata": {},
   "outputs": [
    {
     "name": "stdout",
     "output_type": "stream",
     "text": [
      "total 0\n",
      "-rw-r--r-- 1 sammy sammy 0 Oct 29 19:20 my_file1\n",
      "-rw-r--r-- 1 sammy sammy 0 Oct 29 19:20 my_file2\n",
      "-rw-r--r-- 1 sammy sammy 0 Oct 29 19:20 my_file3\n"
     ]
    }
   ],
   "source": [
    "!touch my_file1\n",
    "!touch my_file2\n",
    "!touch my_file3\n",
    "%ls -l"
   ]
  },
  {
   "cell_type": "markdown",
   "metadata": {},
   "source": [
    "## git status\n",
    "\n",
    "Para ver el estado de nuetro repositorio en cualquier momento, contamos con un comando dedicado:"
   ]
  },
  {
   "cell_type": "code",
   "execution_count": 4,
   "metadata": {},
   "outputs": [
    {
     "name": "stdout",
     "output_type": "stream",
     "text": [
      "On branch master\n",
      "\n",
      "No commits yet\n",
      "\n",
      "Untracked files:\n",
      "  (use \"git add <file>...\" to include in what will be committed)\n",
      "\t\u001b[31mmy_file1\u001b[m\n",
      "\t\u001b[31mmy_file2\u001b[m\n",
      "\t\u001b[31mmy_file3\u001b[m\n",
      "\n",
      "nothing added to commit but untracked files present (use \"git add\" to track)\n"
     ]
    }
   ],
   "source": [
    "!git status"
   ]
  },
  {
   "cell_type": "markdown",
   "metadata": {},
   "source": [
    "Analicemos su output:\n",
    "\n",
    "#### On branch master\n",
    "\n",
    "Git se refiere a su estructura interna como un *tree*. Es posible crear *branches* de ese tree y ubicarse en ellas. Por omisión Git se ubica en la branch `master`.\n",
    "\n",
    "#### No commits yet\n",
    "\n",
    "Este repositorio acaba de ser inicializado, por lo que se encuentra vacío. No tiene conocimiento de ningún archivo ni contiene historial de cambios.\n",
    "\n",
    "#### Untracked files\n",
    "\n",
    "Git reconoce elementos en el working directory y ofrece volverlos parte del repositorio."
   ]
  },
  {
   "cell_type": "markdown",
   "metadata": {},
   "source": [
    "## git add\n",
    "\n",
    "Para popular nuestro repositorio primero añadimos un archivo:"
   ]
  },
  {
   "cell_type": "code",
   "execution_count": 5,
   "metadata": {},
   "outputs": [],
   "source": [
    "!git add my_file1"
   ]
  },
  {
   "cell_type": "markdown",
   "metadata": {},
   "source": [
    "Ahora veamos cómo esto afectó el estado de nuestro repositorio:"
   ]
  },
  {
   "cell_type": "code",
   "execution_count": 6,
   "metadata": {},
   "outputs": [
    {
     "name": "stdout",
     "output_type": "stream",
     "text": [
      "On branch master\n",
      "\n",
      "No commits yet\n",
      "\n",
      "Changes to be committed:\n",
      "  (use \"git rm --cached <file>...\" to unstage)\n",
      "\t\u001b[32mnew file:   my_file1\u001b[m\n",
      "\n",
      "Untracked files:\n",
      "  (use \"git add <file>...\" to include in what will be committed)\n",
      "\t\u001b[31mmy_file2\u001b[m\n",
      "\t\u001b[31mmy_file3\u001b[m\n",
      "\n"
     ]
    }
   ],
   "source": [
    "!git status"
   ]
  },
  {
   "cell_type": "markdown",
   "metadata": {},
   "source": [
    "Analicemos su output:\n",
    "\n",
    "#### On branch master\n",
    "\n",
    "Seguirmos en la branch `master` dentro del worktree actual de Git.\n",
    "\n",
    "#### Changes to be commited\n",
    "\n",
    "Git ha cumplido nuestra orden anterior y ha añadido `my_file1` al staging area.\n",
    "\n",
    "> Si queremos quitarlo del staging area, ejecutar `git rm --cached my_file1`\n",
    "\n",
    "#### Untracked files\n",
    "\n",
    "Esta lista ha sido actualizada, mostrando un elemento menos."
   ]
  },
  {
   "cell_type": "markdown",
   "metadata": {},
   "source": [
    "## git commit\n",
    "\n",
    "Nuestro archivo `my_file1` actualmente reside en el staging area. Para llevarlo al repositorio:"
   ]
  },
  {
   "cell_type": "code",
   "execution_count": 7,
   "metadata": {},
   "outputs": [
    {
     "name": "stdout",
     "output_type": "stream",
     "text": [
      "Author identity unknown\n",
      "\n",
      "*** Please tell me who you are.\n",
      "\n",
      "Run\n",
      "\n",
      "  git config --global user.email \"you@example.com\"\n",
      "  git config --global user.name \"Your Name\"\n",
      "\n",
      "to set your account's default identity.\n",
      "Omit --global to set the identity only in this repository.\n",
      "\n",
      "fatal: unable to auto-detect email address (got 'sammy@pitohui.(none)')\n"
     ]
    }
   ],
   "source": [
    "!git commit -m 'feat: add my_file1'"
   ]
  },
  {
   "cell_type": "markdown",
   "metadata": {},
   "source": [
    "Git requiere dejar vinculado a cada commit un correo electrónico y un nombre. Si su instalación de git no lo ha configurado de manera global en el sistema, puede configurarlo de manera local en el repositorio.\n",
    "\n",
    "> En particular, un Jupyter Notebook siempre deberá hacer este paso manual."
   ]
  },
  {
   "cell_type": "code",
   "execution_count": 8,
   "metadata": {},
   "outputs": [],
   "source": [
    "!git config user.email \"Robert Plant\"\n",
    "!git config user.name \"robert@plant.net\""
   ]
  },
  {
   "cell_type": "markdown",
   "metadata": {},
   "source": [
    "Ahora se puede reintentar la transacción."
   ]
  },
  {
   "cell_type": "code",
   "execution_count": 9,
   "metadata": {},
   "outputs": [
    {
     "name": "stdout",
     "output_type": "stream",
     "text": [
      "[master (root-commit) 638b9f7] feat: add my_file1\n",
      " 1 file changed, 0 insertions(+), 0 deletions(-)\n",
      " create mode 100644 my_file1\n"
     ]
    }
   ],
   "source": [
    "!git commit -m 'feat: add my_file1'"
   ]
  },
  {
   "cell_type": "markdown",
   "metadata": {},
   "source": [
    "## git checkout\n",
    "\n",
    "Este comando es implícito después de un commit. Nos saca del staging area y nos retorna al working directory.\n",
    "\n",
    "Si queremos hacer uso explícito de este comando, necesitaremos aprender un par de comandos primero."
   ]
  },
  {
   "cell_type": "markdown",
   "metadata": {},
   "source": [
    "## git ls-tree\n",
    "\n",
    "Revisemos el nuevo estado del repositorio."
   ]
  },
  {
   "cell_type": "code",
   "execution_count": 10,
   "metadata": {},
   "outputs": [
    {
     "name": "stdout",
     "output_type": "stream",
     "text": [
      "On branch master\n",
      "Untracked files:\n",
      "  (use \"git add <file>...\" to include in what will be committed)\n",
      "\t\u001b[31mmy_file2\u001b[m\n",
      "\t\u001b[31mmy_file3\u001b[m\n",
      "\n",
      "nothing added to commit but untracked files present (use \"git add\" to track)\n"
     ]
    }
   ],
   "source": [
    "!git status"
   ]
  },
  {
   "cell_type": "markdown",
   "metadata": {},
   "source": [
    "Este output sólo nos muestra los archivos untracked, para ver los tracked en la branch `master` ejecutar lo siguiente:"
   ]
  },
  {
   "cell_type": "code",
   "execution_count": 11,
   "metadata": {},
   "outputs": [
    {
     "name": "stdout",
     "output_type": "stream",
     "text": [
      "100644 blob e69de29bb2d1d6434b8b29ae775ad8c2e48c5391\tmy_file1\n"
     ]
    }
   ],
   "source": [
    "!git ls-tree -r master"
   ]
  },
  {
   "cell_type": "markdown",
   "metadata": {},
   "source": [
    "Esto nos muestra el nombre como lo vemos en el working directory así como el hash de la base de datos de Git, para omitir lo último añadamos una flag:"
   ]
  },
  {
   "cell_type": "code",
   "execution_count": 12,
   "metadata": {},
   "outputs": [
    {
     "name": "stdout",
     "output_type": "stream",
     "text": [
      "my_file1\n"
     ]
    }
   ],
   "source": [
    "!git ls-tree -r master --name-only"
   ]
  },
  {
   "cell_type": "markdown",
   "metadata": {},
   "source": [
    "## git stash\n",
    "\n",
    "Hay operaciones que Git se niega a realizar porque existen archivos untracked o staged.\n",
    "\n",
    "Una manera rápida de solucionar esto es *meterlos bajo la alfombra* o, como mejor puede entenderse, lanzarlos a un tarro."
   ]
  },
  {
   "cell_type": "code",
   "execution_count": 13,
   "metadata": {},
   "outputs": [
    {
     "name": "stdout",
     "output_type": "stream",
     "text": [
      "Saved working directory and index state WIP on master: 638b9f7 feat: add my_file1\n"
     ]
    }
   ],
   "source": [
    "!git stash -u"
   ]
  },
  {
   "cell_type": "markdown",
   "metadata": {},
   "source": [
    "Esto modifica el working directory, sale de la staging area (si aplica) y nos deja en las mismas condiciones que el repositorio."
   ]
  },
  {
   "cell_type": "code",
   "execution_count": 14,
   "metadata": {},
   "outputs": [
    {
     "name": "stdout",
     "output_type": "stream",
     "text": [
      "On branch master\n",
      "nothing to commit, working tree clean\n"
     ]
    }
   ],
   "source": [
    "!git status"
   ]
  },
  {
   "cell_type": "markdown",
   "metadata": {},
   "source": [
    "Podemos ver todos los tarros a los que hemos lanzado untracked files."
   ]
  },
  {
   "cell_type": "code",
   "execution_count": 15,
   "metadata": {},
   "outputs": [
    {
     "name": "stdout",
     "output_type": "stream",
     "text": [
      "stash@{0}: WIP on master: 638b9f7 feat: add my_file1\n"
     ]
    }
   ],
   "source": [
    "!git stash list"
   ]
  },
  {
   "cell_type": "markdown",
   "metadata": {},
   "source": [
    "Para volcar el tarro que recién creamos de vuelta en el working directory."
   ]
  },
  {
   "cell_type": "code",
   "execution_count": 16,
   "metadata": {},
   "outputs": [
    {
     "name": "stdout",
     "output_type": "stream",
     "text": [
      "Already up to date.\n",
      "On branch master\n",
      "Untracked files:\n",
      "  (use \"git add <file>...\" to include in what will be committed)\n",
      "\t\u001b[31mmy_file2\u001b[m\n",
      "\t\u001b[31mmy_file3\u001b[m\n",
      "\n",
      "nothing added to commit but untracked files present (use \"git add\" to track)\n",
      "Dropped refs/stash@{0} (256dcc4586e126eced6f5df534bf346ed7277ae9)\n"
     ]
    }
   ],
   "source": [
    "!git stash pop 0"
   ]
  },
  {
   "cell_type": "markdown",
   "metadata": {},
   "source": [
    "Podemos realizar esto en cualquier momento que queramos guardar cambios locales pendientes que aún no llegan oficialmente al repositorio."
   ]
  },
  {
   "cell_type": "markdown",
   "metadata": {},
   "source": [
    "## git branch\n",
    "\n",
    "Git es un árbol. Actualmente nos encontramos en la branch `master`. Podemos crear una nueva branch a partir de esta, llamémosla `trunk`."
   ]
  },
  {
   "cell_type": "code",
   "execution_count": 17,
   "metadata": {},
   "outputs": [],
   "source": [
    "!git branch trunk"
   ]
  },
  {
   "cell_type": "markdown",
   "metadata": {},
   "source": [
    "Hemos creado una nueva branch llamada `trunk` que tiene como punto de partida `master`. Ahora revisemos cómo luce el worktree de Git."
   ]
  },
  {
   "cell_type": "code",
   "execution_count": 18,
   "metadata": {},
   "outputs": [
    {
     "name": "stdout",
     "output_type": "stream",
     "text": [
      "* \u001b[32mmaster\u001b[m\n",
      "  trunk\u001b[m\n"
     ]
    }
   ],
   "source": [
    "!git branch -a"
   ]
  },
  {
   "cell_type": "markdown",
   "metadata": {},
   "source": [
    "La estrella marca la branch en la que nos ubicamos. Para cambiar de branch podemos hacer uso de `checkout`."
   ]
  },
  {
   "cell_type": "code",
   "execution_count": 19,
   "metadata": {},
   "outputs": [
    {
     "name": "stdout",
     "output_type": "stream",
     "text": [
      "Switched to branch 'trunk'\n"
     ]
    }
   ],
   "source": [
    "!git checkout trunk"
   ]
  },
  {
   "cell_type": "markdown",
   "metadata": {},
   "source": [
    "Si revisamos todas las branches existentes, vemos que la estrella cambió de lugar."
   ]
  },
  {
   "cell_type": "code",
   "execution_count": 20,
   "metadata": {},
   "outputs": [
    {
     "name": "stdout",
     "output_type": "stream",
     "text": [
      "  master\u001b[m\n",
      "* \u001b[32mtrunk\u001b[m\n"
     ]
    }
   ],
   "source": [
    "!git branch -a"
   ]
  },
  {
   "cell_type": "markdown",
   "metadata": {},
   "source": [
    "Luego si revisamos el estado del repositorio, nos confirma que estamos en una nueva branch."
   ]
  },
  {
   "cell_type": "code",
   "execution_count": 21,
   "metadata": {},
   "outputs": [
    {
     "name": "stdout",
     "output_type": "stream",
     "text": [
      "On branch trunk\n",
      "Untracked files:\n",
      "  (use \"git add <file>...\" to include in what will be committed)\n",
      "\t\u001b[31mmy_file2\u001b[m\n",
      "\t\u001b[31mmy_file3\u001b[m\n",
      "\n",
      "nothing added to commit but untracked files present (use \"git add\" to track)\n"
     ]
    }
   ],
   "source": [
    "!git status"
   ]
  },
  {
   "cell_type": "markdown",
   "metadata": {},
   "source": [
    "## git log\n",
    "\n",
    "Ahora contamos con 2 branches, `master` y `trunk`, y podemos cambiar entre ellas con *checkout*. No obstante, ambas están *even*, esto es, tienen el mismo historial de commits.\n",
    "\n",
    "Para poder apreciar cómo cada branch es independiente entre sí, hagámoslas diverger."
   ]
  },
  {
   "cell_type": "code",
   "execution_count": 22,
   "metadata": {},
   "outputs": [
    {
     "name": "stdout",
     "output_type": "stream",
     "text": [
      "[trunk 7baae16] feat: add my_file2\n",
      " 1 file changed, 0 insertions(+), 0 deletions(-)\n",
      " create mode 100644 my_file2\n"
     ]
    }
   ],
   "source": [
    "!git add my_file2\n",
    "!git commit -m 'feat: add my_file2'"
   ]
  },
  {
   "cell_type": "markdown",
   "metadata": {},
   "source": [
    "Ahora cambiemos a `master` y hagamos una acción diferente."
   ]
  },
  {
   "cell_type": "code",
   "execution_count": 23,
   "metadata": {},
   "outputs": [
    {
     "name": "stdout",
     "output_type": "stream",
     "text": [
      "Switched to branch 'master'\n",
      "[master c081a1a] feat: add my_file3\n",
      " 1 file changed, 0 insertions(+), 0 deletions(-)\n",
      " create mode 100644 my_file3\n"
     ]
    }
   ],
   "source": [
    "!git checkout master\n",
    "!git add my_file3\n",
    "!git commit -m 'feat: add my_file3'"
   ]
  },
  {
   "cell_type": "markdown",
   "metadata": {},
   "source": [
    "Para apreciar la diferencia entre ambas, vemos el historial de cada una &mdash;llamado de aquí en más como bitácora darle un nombre característico."
   ]
  },
  {
   "cell_type": "code",
   "execution_count": 24,
   "metadata": {},
   "outputs": [
    {
     "name": "stdout",
     "output_type": "stream",
     "text": [
      "Switched to branch 'trunk'\n",
      "\u001b[33m7baae16\u001b[m\u001b[33m (\u001b[m\u001b[1;36mHEAD\u001b[m\u001b[33m -> \u001b[m\u001b[1;32mtrunk\u001b[m\u001b[33m)\u001b[m feat: add my_file2\n",
      "\u001b[33m638b9f7\u001b[m feat: add my_file1\n"
     ]
    }
   ],
   "source": [
    "!git checkout trunk\n",
    "!git log --oneline # la flag es para tener una vista compacta"
   ]
  },
  {
   "cell_type": "code",
   "execution_count": 25,
   "metadata": {},
   "outputs": [
    {
     "name": "stdout",
     "output_type": "stream",
     "text": [
      "Switched to branch 'master'\n",
      "\u001b[33mc081a1a\u001b[m\u001b[33m (\u001b[m\u001b[1;36mHEAD\u001b[m\u001b[33m -> \u001b[m\u001b[1;32mmaster\u001b[m\u001b[33m)\u001b[m feat: add my_file3\n",
      "\u001b[33m638b9f7\u001b[m feat: add my_file1\n"
     ]
    }
   ],
   "source": [
    "!git checkout master\n",
    "!git log --oneline"
   ]
  },
  {
   "cell_type": "markdown",
   "metadata": {},
   "source": [
    "## git merge"
   ]
  },
  {
   "cell_type": "markdown",
   "metadata": {},
   "source": [
    "Al trabajar en equipo, se vuelve necesario volver *even* las diferenes branches de trabajo. Esto ocurre principalmente cuando se quiere traer cambios desde otras branches hacia `master`.\n",
    "\n",
    "Para hacer merge desde una branch arbitraria hacia master:"
   ]
  },
  {
   "cell_type": "code",
   "execution_count": 26,
   "metadata": {},
   "outputs": [
    {
     "name": "stdout",
     "output_type": "stream",
     "text": [
      "Already on 'master'\n",
      "Merge made by the 'ort' strategy.\n",
      " my_file2 | 0\n",
      " 1 file changed, 0 insertions(+), 0 deletions(-)\n",
      " create mode 100644 my_file2\n"
     ]
    }
   ],
   "source": [
    "!git checkout master\n",
    "!git merge trunk --no-edit # la flag es solo para que esta celda no espere infinitamente"
   ]
  },
  {
   "cell_type": "markdown",
   "metadata": {},
   "source": [
    "El comando `merge` abre el editor de texto y exige confirmar el commit. Como una celda de Jupyter Notebook no es interactiva, debe añadirse la flag `--no-edit` para eviar que espere infinitamente.\n",
    "\n",
    "Luego podemos ver cómo la bitácora de `trunk` fue incorporada a la de `master`, quedando \"atrasada.\""
   ]
  },
  {
   "cell_type": "code",
   "execution_count": 27,
   "metadata": {},
   "outputs": [
    {
     "name": "stdout",
     "output_type": "stream",
     "text": [
      "\u001b[33m87243fa\u001b[m\u001b[33m (\u001b[m\u001b[1;36mHEAD\u001b[m\u001b[33m -> \u001b[m\u001b[1;32mmaster\u001b[m\u001b[33m)\u001b[m Merge branch 'trunk'\n",
      "\u001b[33mc081a1a\u001b[m feat: add my_file3\n",
      "\u001b[33m7baae16\u001b[m\u001b[33m (\u001b[m\u001b[1;32mtrunk\u001b[m\u001b[33m)\u001b[m feat: add my_file2\n",
      "\u001b[33m638b9f7\u001b[m feat: add my_file1\n"
     ]
    }
   ],
   "source": [
    "!git log --oneline"
   ]
  },
  {
   "cell_type": "markdown",
   "metadata": {},
   "source": [
    "# Véase también\n",
    "\n",
    "* [Docs/git-init](https://git-scm.com/docs/git-init)\n",
    "* [Docs/git-status](https://git-scm.com/docs/git-status)\n",
    "* [Docs/git-add](https://git-scm.com/docs/git-add)\n",
    "* [Docs/git-commit](https://git-scm.com/docs/git-commit)\n",
    "* [Docs/git-checkout](https://git-scm.com/docs/git-checkout)\n",
    "* [Docs/git-ls-tree](https://git-scm.com/docs/git-ls-tree)\n",
    "* [Docs/git-stash](https://git-scm.com/docs/git-stash)\n",
    "* [Docs/git-branch](https://git-scm.com/docs/git-branch)\n",
    "* [Docs/git-log](https://git-scm.com/docs/git-log)\n",
    "* [Docs/git-merge](https://git-scm.com/docs/git-merge)"
   ]
  }
 ],
 "metadata": {
  "kernelspec": {
   "display_name": "Python 3",
   "language": "python",
   "name": "python3"
  },
  "language_info": {
   "codemirror_mode": {
    "name": "ipython",
    "version": 3
   },
   "file_extension": ".py",
   "mimetype": "text/x-python",
   "name": "python",
   "nbconvert_exporter": "python",
   "pygments_lexer": "ipython3",
   "version": "3.12.7"
  }
 },
 "nbformat": 4,
 "nbformat_minor": 2
}

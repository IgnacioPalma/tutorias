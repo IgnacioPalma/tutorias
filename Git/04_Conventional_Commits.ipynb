{
 "cells": [
  {
   "cell_type": "markdown",
   "metadata": {
    "vscode": {
     "languageId": "plaintext"
    }
   },
   "source": [
    "# Conventional Commits\n",
    "\n",
    "Como habrán notado, todo commit de git debe incluir un mensaje. Todos los proyectos de reputación, incluyendo este, siguen un conjunto de convenciones respecto al contenido de los mensajes.\n",
    "\n",
    "[Conventional Commits](https://www.conventionalcommits.org/en/v1.0.0/) es ampliamente aceptado y establece el conjunto de reglas que un mensaje de commit debe seguir.\n",
    "\n",
    "## Commit Message Format\n",
    "\n",
    "Cada mensaje consiste de un *Encabezado*, un *Cuerpo* y un *Pie*.\n",
    "\n",
    "```\n",
    "<type>(<scope>): <subject> # Encabezado\n",
    "\n",
    "<body> # Cuerpo\n",
    "\n",
    "<footer> # Pie\n",
    "```\n",
    "\n",
    "Solamente el encabezado es mandatorio, dejando al cuerpo y pie como secciones opcionales."
   ]
  },
  {
   "cell_type": "markdown",
   "metadata": {},
   "source": [
    "### Encabezado\n",
    "\n",
    "Es la línea que aparecerá en el output de `git log --oneline` y debe contener menos de 80 chars  &mdash;este útlimo es el tamaño mínimo de una terminal y permite que se visualice siempre en una misma línea.\n",
    "\n",
    "#### type\n",
    "\n",
    "La primera sección del encabezado es mandatoria y determina qué cambio se está guardando. A continuación se listan los tipos de cambios utilizados en conventional commits.\n",
    "\n",
    "##### feat\n",
    "\n",
    "Este commit añade una característica nueva al proyecto.\n",
    "\n",
    "```\n",
    "git commit -m 'feat: ahora hay palta para la once'\n",
    "```\n",
    "\n",
    "##### fix\n",
    "\n",
    "Este commit arregla algo que estaba roto o no funcionaba bien.\n",
    "\n",
    "```\n",
    "git commit -m 'fix: el cuchillo ya no se rompe al cortar la palta'\n",
    "```\n",
    "\n",
    "##### refactor\n",
    "\n",
    "Este commit movió código, pero no cambió su funcionamiento.\n",
    "\n",
    "```\n",
    "git commit -m 'refactor: ahora se toma la palta con la mano derecha'\n",
    "```\n",
    "\n",
    "##### perf\n",
    "\n",
    "Este commit optimizó una característica ya existente en el proyecto.\n",
    "\n",
    "```\n",
    "git commit -m 'perf: esparcir la palta con tenedor en lugar de cuchara'\n",
    "```\n",
    "\n",
    "##### docs\n",
    "\n",
    "Este commit edita documentación del proyecto.\n",
    "\n",
    "```\n",
    "git commit -m 'docs: explicar como esparcir una palta con clase'\n",
    "```\n",
    "\n",
    "##### test\n",
    "\n",
    "Este commit indica que se editó un test y no código del programa.\n",
    "\n",
    "```\n",
    "git commit -m 'test: simulando una palta con una naranja'\n",
    "```\n",
    "\n",
    "#### Scope\n",
    "\n",
    "La segunda sección del encabezado es opcional y permite especificar una parte puntual del proyecto que ha sido modificada.\n",
    "\n",
    "```\n",
    "git commit -m 'feat(aliño)!: reemplazamos la sal por azúcar'\n",
    "```\n",
    "\n",
    "> Nota: Especificar `!` indica que es una anti-feat, en otras palabras, quita una característica.\n",
    "\n",
    "#### Subject\n",
    "\n",
    "Es al mensaje informativo propiamente tal, corresponde a todo lo que sigue después de `:`."
   ]
  },
  {
   "cell_type": "markdown",
   "metadata": {},
   "source": [
    "### Cuerpo\n",
    "\n",
    "Si no es posible explicar todo dentro del subject, puede añadirse más detalles dentro del cuerpo. La única restricción de esta sección es estar separada por una línea en blanco del encabezado y el pie.\n",
    "\n",
    "```\n",
    "git commit -m 'feat(aliño)!: reemplazamos la sal por azúcar\n",
    "\n",
    "Tuve un accidente mientras cocinaba y le cayó vinagre a la palta.\n",
    "Estuve leyendo en internet y decía que usar azúcar permite quitar ese amargo.\n",
    "No creo que funcione, pero tampoco voy a lanzar a la basura una palta.\n",
    "'\n",
    "```"
   ]
  },
  {
   "cell_type": "markdown",
   "metadata": {
    "vscode": {
     "languageId": "plaintext"
    }
   },
   "source": [
    "### Pie\n",
    "\n",
    "Cuando se tiene una anti-feat, se recomienda hacer uso de un pie para explicitar que luego del commit algo se comportará de manera diferente. Algunos programas leen el pie y ofrecen un resumen de nuevas anti-feat que se debe tener en consideración antes de empezar a programar.\n",
    "\n",
    "Para ello se debe añadir *BREAKING CHANGE:* en la última línea, seguido del nuevo comportamiento.\n",
    "\n",
    "```\n",
    "git commit -m 'feat(aliño)!: reemplazamos la sal por azúcar\n",
    "\n",
    "Tuve un accidente mientras cocinaba y le cayó vinagre a la palta.\n",
    "Estuve leyendo en internet y decía que usar azúcar permite quitar ese amargo.\n",
    "No creo que funcione, pero tampoco voy a lanzar una palta a la basura.\n",
    "\n",
    "BREAKING CHANGE: la palta ahora sabe dulce con leves toques de vinagre\n",
    "'\n",
    "```\n",
    "\n",
    "Se puede añadir información adicional en nuevas líneas para dejar registro de otras cualidades del commit.\n",
    "\n",
    "```\n",
    "git commit -m 'feat(aliño)!: reemplazamos la sal por azúcar\n",
    "\n",
    "Tuve un accidente mientras cocinaba y le cayó vinagre a la palta.\n",
    "Estuve leyendo en internet y decía que usar azúcar permite quitar ese amargo.\n",
    "No creo que funcione, pero tampoco voy a lanzar a la basura una palta.\n",
    "\n",
    "BREAKING CHANGE: la palta ahora sabe dulce con leves toques de vinagre\n",
    "Reviewed-by: My mother\n",
    "Issue: #53\n",
    "'\n",
    "```"
   ]
  },
  {
   "cell_type": "markdown",
   "metadata": {},
   "source": [
    "# Véase también\n",
    "\n",
    "* [Conventional Commits Specification](https://www.conventionalcommits.org/en/v1.0.0/)\n",
    "* [Angular Commit Guidelines](https://github.com/angular/angular/blob/22b96b9/CONTRIBUTING.md#-commit-message-guidelines)\n",
    "* [Semantic Versioning](https://semver.org/)"
   ]
  }
 ],
 "metadata": {
  "language_info": {
   "name": "python"
  }
 },
 "nbformat": 4,
 "nbformat_minor": 2
}

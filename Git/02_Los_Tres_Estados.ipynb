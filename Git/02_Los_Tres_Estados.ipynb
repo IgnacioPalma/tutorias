{
 "cells": [
  {
   "cell_type": "markdown",
   "metadata": {},
   "source": [
    "# The Three States\n",
    "\n",
    "Este es el cimiento sobre el que se sostiene el flujo de trabajo de Git. Mientra el capítulo anterior se enfocó en las definiciones, este hará énfasis en los pasos a seguir para poder guardar de manera efectiva los cambios al código fuente dentro del VCS de Git.\n",
    "\n",
    "Repase este capítulo cuántas veces sea necesrio y no dude en pedir ayuda sobre sus dudas."
   ]
  },
  {
   "cell_type": "markdown",
   "metadata": {},
   "source": [
    "![the_tree stages_git_scm](https://git-scm.com/book/en/v2/images/areas.png)\n",
    "\n",
    "Es posible reconocer los 3 estados posibles en los que el código fuente puede encontrarse:\n",
    "\n",
    "  1. Working Directory\n",
    "  2. Staging Area\n",
    "  3. Repository\n",
    "\n",
    "Adicionalmente, se listan las 3 acciones que Git realiza para alternar entre estados:\n",
    "\n",
    "  1. Stage\n",
    "  2. Commit\n",
    "  3. Checkout"
   ]
  },
  {
   "cell_type": "markdown",
   "metadata": {},
   "source": [
    "## States\n",
    "\n",
    "![the_three_stages_stack_overflow](https://git-scm.com/images/about/index1@2x.png)"
   ]
  },
  {
   "cell_type": "markdown",
   "metadata": {},
   "source": [
    "### Working Directory\n",
    "\n",
    "Todo proyecto comienza en una carpeta cualquiera dentro de la computadora. Este directorio real, existente y accesible como cualquier otro se denomina *Working Directory*. Cada vez que abrimos, editamos y guardamos un archivo estamos trabajando allí.\n",
    "\n",
    "Editar un archivo aquí lo deja en el estado **modified**."
   ]
  },
  {
   "cell_type": "markdown",
   "metadata": {
    "vscode": {
     "languageId": "plaintext"
    }
   },
   "source": [
    "### Staging Area\n",
    "\n",
    "Esta es un área intermedia y abstracta, materializada dentro de Git como un archivo. Todo el código fuente *candidato* a formar parte del VCS es llevado al staging area. Esto es importante porque permite granularidad, **no se necesita utilizar todo el working directory** para poder realizar esta operación.\n",
    "\n",
    "Añadir un archivo aquí lo deja en el estado **staged**."
   ]
  },
  {
   "cell_type": "markdown",
   "metadata": {},
   "source": [
    "### Repository\n",
    "\n",
    "Esto es el VCS propiamente tal. El directorio del proyecto tiene un archivo `.git` donde el programa Git guarda su base de datos y snapshots. El código fuente del working directory puede ser borrado o alterado, pero mientras este directorio &mdash;el repositorio&mdash; se conserve todos los archivos y su historial de cambios puede recuperarse.\n",
    "\n",
    "Añadir un archivo aquí lo deja en el estado **commited**."
   ]
  },
  {
   "cell_type": "markdown",
   "metadata": {},
   "source": [
    "## Operations\n",
    "\n",
    "El cambio de estado se realiza con comandos de Git. Asumiento la existencia de una base de datos Git en su interior &mdash;el `.git`&mdash;, se puede reaizar las siguientes operaciones."
   ]
  },
  {
   "cell_type": "markdown",
   "metadata": {},
   "source": [
    "### git add\n",
    "\n",
    "Lleva un archivo desde el *working directory* al *staging area*.\n",
    "\n",
    "* Si Git reconoce este archivo dentro de la base de datos lo denominará **tracked**.\n",
    "\n",
    "* En caso contrario, lo llamará **untracked** e invitará a añadirlo por primera vez."
   ]
  },
  {
   "cell_type": "markdown",
   "metadata": {},
   "source": [
    "### git commit\n",
    "\n",
    "Lleva un archivo desde el *staging area* al *repository*.\n",
    "\n",
    "* Esto guarda exitosamente los cambios en el VCS de Git.\n",
    "\n",
    "* Ahora forma parte del historial de cambios."
   ]
  },
  {
   "cell_type": "markdown",
   "metadata": {},
   "source": [
    "### git checkout\n",
    "\n",
    "Esta operación es implícita tras un commit. Libera al staging area y regresa otra vez al working directory.\n",
    "\n",
    "* En flujos de trabajo más avanzados será necesario utilizar checkout de forma explícita."
   ]
  }
 ],
 "metadata": {
  "language_info": {
   "name": "python"
  }
 },
 "nbformat": 4,
 "nbformat_minor": 2
}

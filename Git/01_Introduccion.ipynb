{
 "cells": [
  {
   "cell_type": "markdown",
   "metadata": {},
   "source": [
    "# Introducción\n",
    "\n",
    "El objetivo de este capítulo es definir un vocabulario en común que se utilizará durante el uso de esta herramienta.\n",
    "Esto incluye abordar tanto las definiciones de los conceptos, así como las abstracciones realizadas por el programa."
   ]
  },
  {
   "cell_type": "markdown",
   "metadata": {},
   "source": [
    "## Version Control\n",
    "\n",
    "El control de versionado corresponde a la práctica de organizar, rastrear y controlar cada versión de un mismo programa\n",
    "en diferentes momentos del tiempo. Para esto se debe mantener un registro de los cambios realizados en el código fuente.\n",
    "\n",
    "> Fuente: [Wikipedia](https://en.wikipedia.org/wiki/Version_control)"
   ]
  },
  {
   "cell_type": "markdown",
   "metadata": {},
   "source": [
    "## Version Control System (VCS)\n",
    "\n",
    "Un sistema de control de versionado es un programa que automatiza el control de versionado. Programas como Microsoft Word\n",
    "y Bloc de Notas guardan un buffer de las acciones pasadas y permiten deshacer los cambios hechos desde que se abrieron. No obstante, estos cambios se vuelven persistentes e irreversibles una vez cerrado el programa, quedando como *única versión* la última.\n",
    "\n",
    "Un VCS se encarga de mantener guardadas las versiones pasadas de todo el proyecto, permitiendo accederlas\n",
    "cuando se estime conveniente.\n",
    "\n",
    "> Fuente: [Wikipedia](https://en.wikipedia.org/wiki/Version_control)"
   ]
  },
  {
   "cell_type": "markdown",
   "metadata": {},
   "source": [
    "## Distributed Version Control System (DVCS)\n",
    "\n",
    "En desarrollo de software, se entiende como sistema de control de versionado distribuido a cualquier programa capaz de mantener un registro de cambios en una computadora y sincronizarlos con los presentes en otra computadora (sea un PC o un servidor).\n",
    "\n",
    "Lo que diferencia el DVCS del VCS es que permite el trabajo en equipo asíncrono. Para poder realizarlo de manera eficaz y eficiente, se debe seguir un conjunto de prácticas y consensos que aseguren la consistencia del código fuente guardado."
   ]
  },
  {
   "cell_type": "markdown",
   "metadata": {},
   "source": [
    "Véase también: [About Version Control](https://git-scm.com/book/en/v2/Getting-Started-About-Version-Control)"
   ]
  },
  {
   "cell_type": "markdown",
   "metadata": {},
   "source": [
    "# Git\n",
    "\n",
    "La herramienta Git es un programa VCS. Su función principal es guarda código fuente y ofrecer comandos para moder manipular las diferentes versiones durante el proceso de desarrollo de software."
   ]
  },
  {
   "cell_type": "markdown",
   "metadata": {},
   "source": [
    "## Snapshots vs Differences\n",
    "\n",
    "La principal diferencia de Git con otros VCS es el uso de *snapshots* para guardar los cambios del código\n",
    "fuente. Este es el paradigma núcleo en torno al cual Git funciona. Dado un código fuente, cada nuevo cambio\n",
    "es registado en Git como una *fotografía* del estado del código en un momento del tiempo.\n",
    "\n",
    "Esto contrasta con las generaciones anteriores de VCS, las cuales añaden la primera versión\n",
    "del código fuente y luego sólo guardan la diferencia de la nueva versión con respecto de la anterior. De esta\n",
    "forma el VCS se conforma de un conjunto de cambios realizados a los archivos a lo largo el tiempo. Por esta razón se les conocen como *delta-based* VCS's."
   ]
  },
  {
   "cell_type": "markdown",
   "metadata": {},
   "source": [
    "### Optimizations\n",
    "\n",
    "El sistema de snapshots puede resultar pesado para un código fuente en constante expansión, por este motivo se realizan optimizaciones que permiten mantener a Git rápido y eficiente:\n",
    "\n",
    "* Los snapshots son tratados como un *filesystem*.\n",
    "* Git sólo guarda la referencia al snapshot en sus operaciones.\n",
    "* Si un archivo no es modificado, no se guarda una nueva versión.\n",
    "  * Se apunta una referencia de un archivo idéntico ya guardado."
   ]
  },
  {
   "cell_type": "markdown",
   "metadata": {},
   "source": [
    "## Local Operations\n",
    "\n",
    "La mayor parte de las operaciones en Git ocurren dentro de la misma computadora, no hay información que deba extraerse de internet para funcionar. El historial completo de los cambios al código fuente se encuentra en la computadora local &mdash;haya ocurrido ayer, el mes pasado o hace dos años.\n",
    "\n",
    "Esto significa que es *poco lo que no se puede hacer* sin conexión a internet o a la VPN del trabajo. Se puede realizar y registrar los cambios al código fuente localmente, para luego sincronizarlos con el servidor cuando haya una conexión a internet. Es importante destacar esto, otros VCS prohiben operaciones sin acceso a internet."
   ]
  },
  {
   "cell_type": "markdown",
   "metadata": {},
   "source": [
    "## Integrity\n",
    "\n",
    "Los cambios al código fuente tiene una firma digital llamda *checksum*. Por esta razón, es imposible registrar cambios sobre los que Git no tenga conocimiento. Esto es útil para no perder información y detectar corrupción en los archivos.\n",
    "\n",
    "El *checksum* es un string alfanumérico de 40 caractéres llamado SHA-1. Se calcula a partir de los contenidos de los archivos o la estructura de directorios. Este string se guarda en la base de datos de Git. Para referirse a un snapshot o a un archivo en la base de datos se utiliza su checksum asociado."
   ]
  },
  {
   "cell_type": "markdown",
   "metadata": {},
   "source": [
    "## Everything is Undoable\n",
    "\n",
    "Una experienca común durante el desarrollo de software es meter la mata y estropear el trabajo. El código no funciona y se vuelve necesario revertir los cambios. Los cambios registrados en Git siempre son acumulativos y rara vez destructivos, esto es, revertir el código fuente a un estado &mdash;snapshot&mdash; anterior es parte del flujo de trabajo."
   ]
  },
  {
   "cell_type": "markdown",
   "metadata": {},
   "source": [
    "# Véase también:\n",
    "\n",
    "* [Docs/What is Git?](https://git-scm.com/book/en/v2/Getting-Started-What-is-Git%3F)"
   ]
  }
 ],
 "metadata": {
  "language_info": {
   "name": "python"
  }
 },
 "nbformat": 4,
 "nbformat_minor": 2
}
